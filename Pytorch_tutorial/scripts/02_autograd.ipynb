{
 "cells": [
  {
   "cell_type": "markdown",
   "metadata": {},
   "source": [
    " ### <font color=\"yellow\">Automatic Differentiation with `torch.autograd`</font>\n",
    "Autograd is a PyTorch library that implements Automatic Differentiation. It uses the graph structure to compute gradients and allows the model to learn by updating its parameters during training. Autograd also provides a way to compute gradients with respect to arbitrary scalar values, which is useful for tasks such as optimization.\n",
    "\n",
    "#### <font color=\"yellow\">Example 1</font>"
   ]
  },
  {
   "cell_type": "code",
   "execution_count": 8,
   "metadata": {},
   "outputs": [
    {
     "name": "stdout",
     "output_type": "stream",
     "text": [
      "tensor(14.)\n"
     ]
    }
   ],
   "source": [
    " # Import the torch library\n",
    "import torch\n",
    "\n",
    "# Assign any value for x as tensor form\n",
    "# Set requires_grad=True So,\n",
    "# that autograd will record the operations\n",
    "x=torch.tensor(7.0,requires_grad=True)\n",
    "\n",
    "# Define the equation\n",
    "f = (x**2)+3\n",
    "\n",
    "# Differentiate using torch\n",
    "#Uses backward function to compute the gradient value\n",
    "f.backward()\n",
    "\n",
    "# Print the derivative value\n",
    "# of y i.e dy/dx = 2x  = 2 X 7.0 = 14.\n",
    "print(x.grad)"
   ]
  },
  {
   "cell_type": "markdown",
   "metadata": {},
   "source": [
    " #### <font color=\"yellow\">Example 2</font>"
   ]
  },
  {
   "cell_type": "code",
   "execution_count": 39,
   "metadata": {},
   "outputs": [
    {
     "name": "stdout",
     "output_type": "stream",
     "text": [
      "tensor([[ 22.,  45.,  74.],\n",
      "        [109., 150., 197.],\n",
      "        [250., 309., 374.]])\n",
      "tensor([[ 22.,  45.,  74.],\n",
      "        [109., 150., 197.],\n",
      "        [250., 309., 374.]], grad_fn=<AddBackward0>)\n"
     ]
    }
   ],
   "source": [
    "# import the library\n",
    "import torch\n",
    "\n",
    "# Assign the input variable\n",
    "x = torch_input=torch.tensor([[1.0,2.0,3.0],\n",
    "                              [4.0,5.0,6.0],\n",
    "                              [7.0,8.0,9.0]],requires_grad=True)\n",
    "\n",
    "# define the function\n",
    "def f(x):\n",
    "    return (x**3) + 7*(x**2) + 5*x + 10\n",
    "\n",
    "# Assign the sum to another variable z\n",
    "# Because torch.autograd.grad() works only for scalar input\n",
    "z=f(x).sum()\n",
    "\n",
    "# Compute the gradient\n",
    "z.backward()\n",
    "\n",
    "# Find the gradient value\n",
    "print(x.grad)\n",
    "\n",
    "# Calculation by hand\n",
    "print(3*x**2+14*x+5)"
   ]
  },
  {
   "cell_type": "markdown",
   "metadata": {},
   "source": [
    " #### <font color=\"yellow\">Example 3: A simple linear regression model</font>\n",
    "\n",
    "When training neural networks, the most frequently used algorithm is back propagation. In this algorithm, parameters (model weights) are adjusted according to the gradient of the loss function with respect to the given parameter.\n",
    "\n",
    "To compute those gradients, PyTorch has a built-in differentiation engine called `torch.autograd`. It supports automatic computation of gradient for any computational graph.\n",
    "\n",
    "Consider the simplest one-layer neural network, with input `x`, parameters `w` and `b`, and some loss function. It can be defined in PyTorch in the following manner:"
   ]
  },
  {
   "cell_type": "code",
   "execution_count": 27,
   "metadata": {},
   "outputs": [
    {
     "name": "stdout",
     "output_type": "stream",
     "text": [
      "Gradient of x: tensor(2.)\n",
      "Gradient of b: tensor(1.)\n",
      "Gradient of w: tensor(5.)\n",
      "y: tensor(13., grad_fn=<AddBackward0>)\n",
      "Updated b: tensor(2.9900)\n",
      "Updated W: tensor(1.9500)\n",
      "Loss: tensor(3.1430, grad_fn=<BinaryCrossEntropyWithLogitsBackward0>)\n"
     ]
    }
   ],
   "source": [
    "import torch\n",
    "\n",
    "# Define Input variables\n",
    "x = torch.tensor(5., requires_grad=True)\n",
    "w = torch.tensor(2., requires_grad=True)\n",
    "b = torch.tensor(3., requires_grad=True)\n",
    "\n",
    "# Define the graph structure\n",
    "# Forward pass\n",
    "y = w * x + b\n",
    "\n",
    "# Backward pass\n",
    "y.backward()\n",
    "\n",
    "#View the outputs\n",
    "print(\"Gradient of x:\", x.grad)\n",
    "print(\"Gradient of b:\", b.grad)\n",
    "print(\"Gradient of w:\", w.grad)\n",
    "\n",
    "# Update parameters\n",
    "w.data -= 0.01 * w.grad.data\n",
    "b.data -= 0.01 * b.grad.data\n",
    "\n",
    "y1 = torch.zeros(3)  # expected output\n",
    "loss = torch.nn.functional.binary_cross_entropy_with_logits(z, y1)\n",
    "\n",
    "print(\"y:\",y)\n",
    "print(\"Updated b:\", b.data)\n",
    "print(\"Updated W:\", w.data)\n",
    "print(\"Loss:\",loss)"
   ]
  },
  {
   "cell_type": "code",
   "execution_count": 5,
   "metadata": {},
   "outputs": [
    {
     "name": "stdout",
     "output_type": "stream",
     "text": [
      "Gradient function for z = <AddBackward0 object at 0x7f7c99ccae60>\n",
      "Gradient function for loss = <BinaryCrossEntropyWithLogitsBackward0 object at 0x7f7c99cca770>\n"
     ]
    }
   ],
   "source": [
    "print(f\"Gradient function for z = {z.grad_fn}\")\n",
    "print(f\"Gradient function for loss = {loss.grad_fn}\")"
   ]
  },
  {
   "cell_type": "markdown",
   "metadata": {},
   "source": [
    "#### <font color=\"yellow\">Example 4: A Simple Neural Network with a Single Hidden Layer </font>"
   ]
  },
  {
   "cell_type": "code",
   "execution_count": 40,
   "metadata": {},
   "outputs": [
    {
     "name": "stdout",
     "output_type": "stream",
     "text": [
      "Gradient of w1: tensor([[-0.4414, -0.0000,  0.5173, -0.1474, -0.1068],\n",
      "        [ 0.9661,  0.0000, -1.1324,  0.3228,  0.2339],\n",
      "        [ 0.2137,  0.0000, -0.2505,  0.0714,  0.0517],\n",
      "        [ 0.3215,  0.0000, -0.3769,  0.1074,  0.0778],\n",
      "        [-1.2320, -0.0000,  1.4441, -0.4116, -0.2982],\n",
      "        [ 1.8425,  0.0000, -2.1597,  0.6155,  0.4460],\n",
      "        [-2.0603, -0.0000,  2.4149, -0.6883, -0.4987],\n",
      "        [-1.9953, -0.0000,  2.3388, -0.6666, -0.4830],\n",
      "        [-0.4793, -0.0000,  0.5619, -0.1601, -0.1160],\n",
      "        [-0.2604, -0.0000,  0.3053, -0.0870, -0.0630]])\n",
      "Gradient of b1: tensor([ 0.8793,  0.0000, -1.0307,  0.2938,  0.2128])\n",
      "Gradient of w2: tensor([[0.0359],\n",
      "        [0.0000],\n",
      "        [5.0725],\n",
      "        [4.4821],\n",
      "        [1.4200]])\n",
      "Gradient of b2: tensor([1.])\n"
     ]
    }
   ],
   "source": [
    "# Import the torch library\n",
    "import torch\n",
    "\n",
    "# Input\n",
    "x = torch.randn(1, 10, requires_grad=True)\n",
    "w1 = torch.randn(10, 5, requires_grad=True)\n",
    "b1 = torch.randn(5, requires_grad=True)\n",
    "\n",
    "# Forward pass\n",
    "h = x @ w1 + b1\n",
    "h = torch.relu(h)\n",
    "\n",
    "w2 = torch.randn(5, 1, requires_grad=True)\n",
    "b2 = torch.randn(1, requires_grad=True)\n",
    "y = h @ w2 + b2\n",
    "\n",
    "# Backward pass\n",
    "y.backward()\n",
    "\n",
    "#view the outputs\n",
    "print(\"Gradient of w1:\", w1.grad)\n",
    "print(\"Gradient of b1:\", b1.grad)\n",
    "print(\"Gradient of w2:\", w2.grad)\n",
    "print(\"Gradient of b2:\", b2.grad)\n",
    "\n",
    "# Update parameters\n",
    "w1.data -= 0.01 * w1.grad.data\n",
    "b1.data -= 0.01 * b1.grad.data\n",
    "w2.data -= 0.01 * w2.grad.data\n",
    "b2.data -= 0.01 * b2.grad.data"
   ]
  },
  {
   "cell_type": "markdown",
   "metadata": {},
   "source": [
    "#### <font color=\"yellow\">Example 5 </font>\n",
    "\n",
    "Consider the simplest one-layer neural network, with input x, parameters w and b, and some loss function.\n",
    "\n",
    "To optimize weights of parameters in the neural network, we need to compute the derivatives of our loss function with respect to parameters. To compute those derivatives, we call loss.backward(), and then retrieve the values from w.grad and b.grad:"
   ]
  },
  {
   "cell_type": "code",
   "execution_count": 42,
   "metadata": {},
   "outputs": [
    {
     "name": "stdout",
     "output_type": "stream",
     "text": [
      "tensor([[0.1484, 0.0223, 0.0146],\n",
      "        [0.1484, 0.0223, 0.0146],\n",
      "        [0.1484, 0.0223, 0.0146],\n",
      "        [0.1484, 0.0223, 0.0146],\n",
      "        [0.1484, 0.0223, 0.0146]])\n",
      "tensor([0.1484, 0.0223, 0.0146])\n"
     ]
    }
   ],
   "source": [
    "import torch\n",
    "\n",
    "x = torch.ones(5)  # input tensor\n",
    "y = torch.zeros(3)  # expected output\n",
    "w = torch.randn(5, 3, requires_grad=True)\n",
    "b = torch.randn(3, requires_grad=True)\n",
    "z = torch.matmul(x, w)+b\n",
    "loss = torch.nn.functional.binary_cross_entropy_with_logits(z, y)\n",
    "\n",
    "loss.backward()\n",
    "print(w.grad)\n",
    "print(b.grad)"
   ]
  },
  {
   "cell_type": "markdown",
   "metadata": {},
   "source": [
    "#### Disabling Gradient Tracking\n",
    "By default, all tensors with requires_grad=True are tracking their computational history and support gradient computation. However, there are some cases when we do not need to do that, for example, when we have trained the model and just want to apply it to some input data, i.e. we only want to do forward computations through the network. We can stop tracking computations by surrounding our computation code with torch.no_grad() block:"
   ]
  },
  {
   "cell_type": "code",
   "execution_count": 43,
   "metadata": {},
   "outputs": [
    {
     "name": "stdout",
     "output_type": "stream",
     "text": [
      "True\n",
      "False\n"
     ]
    }
   ],
   "source": [
    "z = torch.matmul(x, w)+b\n",
    "print(z.requires_grad)\n",
    "\n",
    "with torch.no_grad():\n",
    "    z = torch.matmul(x, w)+b\n",
    "print(z.requires_grad)"
   ]
  },
  {
   "cell_type": "markdown",
   "metadata": {},
   "source": [
    "Another way to achieve the same result is to use the detach() method on the tensor:"
   ]
  },
  {
   "cell_type": "code",
   "execution_count": 44,
   "metadata": {},
   "outputs": [
    {
     "name": "stdout",
     "output_type": "stream",
     "text": [
      "False\n"
     ]
    }
   ],
   "source": [
    "z = torch.matmul(x, w)+b\n",
    "z_det = z.detach()\n",
    "print(z_det.requires_grad)"
   ]
  },
  {
   "cell_type": "markdown",
   "metadata": {},
   "source": [
    "#### <font color=\"yellow\">Example 6 </font>"
   ]
  },
  {
   "cell_type": "code",
   "execution_count": 54,
   "metadata": {},
   "outputs": [
    {
     "name": "stdout",
     "output_type": "stream",
     "text": [
      "w: Parameter containing:\n",
      "tensor([[ 0.4090, -0.1328,  0.2428],\n",
      "        [ 0.0499, -0.3968, -0.1845]], requires_grad=True)\n",
      "b: Parameter containing:\n",
      "tensor([-0.0601, -0.0259], requires_grad=True)\n",
      "Loss: 0.9306974411010742\n",
      "dL/dw: tensor([[-0.0604,  0.5519,  0.0706],\n",
      "        [-0.1768, -0.4575, -0.0654]])\n",
      "dL/db: tensor([-0.5108,  0.0952])\n",
      "Loss after 1 step optimization: 0.9224470257759094\n"
     ]
    }
   ],
   "source": [
    "import torch.nn as nn\n",
    "\n",
    "# Create tensors of shape (10, 3) and (10, 2).\n",
    "x = torch.randn(10,3)\n",
    "y = torch.randn(10,2)\n",
    "\n",
    "# Build a fully connected layer\n",
    "linear = nn.Linear(3,2)\n",
    "print(\"w:\", linear.weight)\n",
    "print(\"b:\", linear.bias)\n",
    "\n",
    "# Build loss function and optimizer.\n",
    "criterion = nn.MSELoss()\n",
    "optimizer = torch.optim.SGD(linear.parameters(), lr = 0.01)\n",
    "\n",
    "# Forward Pass\n",
    "pred = linear(x)\n",
    "\n",
    "# Compute loss\n",
    "loss = criterion(pred, y)\n",
    "print(\"Loss:\", loss.item())\n",
    "\n",
    "# Backward pass\n",
    "loss.backward()\n",
    "print(\"dL/dw:\", linear.weight.grad)\n",
    "print(\"dL/db:\", linear.bias.grad)\n",
    "\n",
    "# 1-Step gradient descent\n",
    "optimizer.step()\n",
    "\n",
    "# You can also perform gradient descent at the low level.\n",
    "# linear.weight.data.sub_(0.01 * linear.weight.grad.data)\n",
    "# linear.bias.data.sub_(0.01 * linear.bias.grad.data)\n",
    "# This is an in-place subtraction operation in PyTorch. It subtracts the value from linear.bias.data directly.\n",
    "\n",
    "# Loss after 1-step gradient descent.\n",
    "pred = linear(x)\n",
    "loss = criterion(pred, y)\n",
    "print(\"Loss after 1 step optimization:\", loss.item())"
   ]
  },
  {
   "cell_type": "markdown",
   "metadata": {},
   "source": [
    "### Same example in simple form using for loop"
   ]
  },
  {
   "cell_type": "code",
   "execution_count": 63,
   "metadata": {},
   "outputs": [
    {
     "name": "stdout",
     "output_type": "stream",
     "text": [
      "Epoch [1/10], Loss: 1.728887915611267\n",
      "Epoch [2/10], Loss: 1.699350118637085\n",
      "Epoch [3/10], Loss: 1.6708132028579712\n",
      "Epoch [4/10], Loss: 1.6432403326034546\n",
      "Epoch [5/10], Loss: 1.6165964603424072\n",
      "Epoch [6/10], Loss: 1.5908480882644653\n",
      "Epoch [7/10], Loss: 1.5659624338150024\n",
      "Epoch [8/10], Loss: 1.541908621788025\n",
      "Epoch [9/10], Loss: 1.518656611442566\n",
      "Epoch [10/10], Loss: 1.4961774349212646\n",
      "Final Loss after all epochs: 1.4961774349212646\n"
     ]
    }
   ],
   "source": [
    "import torch.nn as nn\n",
    "\n",
    "# Create tensors of shape (10, 3) and (10, 2).\n",
    "x = torch.randn(10,3)\n",
    "y = torch.randn(10,2)\n",
    "\n",
    "# Build a fully connected layer\n",
    "linear = nn.Linear(3,2)\n",
    "\n",
    "# Build loss function and optimizer.\n",
    "criterion = nn.MSELoss()\n",
    "optimizer = torch.optim.SGD(linear.parameters(), lr = 0.01)\n",
    "\n",
    "epochs = 10\n",
    "\n",
    "for epoch in range(epochs):\n",
    "    pred = linear(x)\n",
    "    loss = criterion(pred, y)\n",
    "    print(f\"Epoch [{epoch+1}/{epochs}], Loss: {loss.item()}\")\n",
    "    loss.backward()\n",
    "    optimizer.step()\n",
    "    optimizer.zero_grad()\n",
    "\n",
    "print(\"Final Loss after all epochs:\", loss.item())"
   ]
  },
  {
   "cell_type": "code",
   "execution_count": null,
   "metadata": {},
   "outputs": [],
   "source": []
  }
 ],
 "metadata": {
  "kernelspec": {
   "display_name": ".venv",
   "language": "python",
   "name": "python3"
  },
  "language_info": {
   "codemirror_mode": {
    "name": "ipython",
    "version": 3
   },
   "file_extension": ".py",
   "mimetype": "text/x-python",
   "name": "python",
   "nbconvert_exporter": "python",
   "pygments_lexer": "ipython3",
   "version": "3.10.12"
  }
 },
 "nbformat": 4,
 "nbformat_minor": 2
}
