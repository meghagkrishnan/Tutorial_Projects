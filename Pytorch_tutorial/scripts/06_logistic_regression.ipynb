{
 "cells": [
  {
   "cell_type": "markdown",
   "metadata": {},
   "source": [
    "# Logistic Regression with PyTorch\n",
    "\n",
    "In this notebook, we will implement a simple **Logistic Regression** model using PyTorch. We will train the model on a toy dataset and visualize the results. \n",
    "\n"
   ]
  },
  {
   "cell_type": "code",
   "execution_count": 3,
   "metadata": {},
   "outputs": [],
   "source": [
    "import torch\n",
    "import torch.nn as nn\n",
    "import torchvision\n",
    "import torchvision.transforms as transforms\n",
    "from torch.utils.data import DataLoader\n",
    "from torchvision import datasets\n",
    "from torchvision.transforms import ToTensor"
   ]
  },
  {
   "cell_type": "code",
   "execution_count": 4,
   "metadata": {},
   "outputs": [],
   "source": [
    "# Hyper-parameters\n",
    "input_size = 28 * 28    # 784\n",
    "num_classes = 10\n",
    "num_epochs = 5\n",
    "batch_size = 100\n",
    "learning_rate = 0.001"
   ]
  },
  {
   "cell_type": "code",
   "execution_count": 6,
   "metadata": {},
   "outputs": [],
   "source": [
    "# MNIST dataset (images and labels)\n",
    "train_dataset = datasets.MNIST(\n",
    "    root=\"/home/gopalakrishnanm/Projects/Pytorch_tutorial/data/mnist/\",\n",
    "    train=True,\n",
    "    download=False,\n",
    "    transform=ToTensor())\n",
    "test_dataset = datasets.MNIST(\n",
    "    root=\"/home/gopalakrishnanm/Projects/Pytorch_tutorial/data/mnist/\",\n",
    "    train=False,\n",
    "    download=False,\n",
    "    transform=ToTensor())"
   ]
  },
  {
   "cell_type": "code",
   "execution_count": 7,
   "metadata": {},
   "outputs": [],
   "source": [
    "# Data loader (input pipeline)\n",
    "train_loader = torch.utils.data.DataLoader(dataset=train_dataset,\n",
    "                                           batch_size=batch_size,\n",
    "                                           shuffle=True)\n",
    "\n",
    "test_loader = torch.utils.data.DataLoader(dataset=test_dataset,\n",
    "                                          batch_size=batch_size,\n",
    "                                          shuffle=False)"
   ]
  },
  {
   "cell_type": "code",
   "execution_count": 8,
   "metadata": {},
   "outputs": [],
   "source": [
    "# Logistic regression model\n",
    "model = nn.Linear(input_size, num_classes)"
   ]
  },
  {
   "cell_type": "code",
   "execution_count": 9,
   "metadata": {},
   "outputs": [],
   "source": [
    "# Loss and optimizer\n",
    "# nn.CrossEntropyLoss() computes softmax internally\n",
    "criterion = nn.CrossEntropyLoss()\n",
    "optimizer = torch.optim.SGD(model.parameters(), lr = learning_rate)"
   ]
  },
  {
   "cell_type": "code",
   "execution_count": 15,
   "metadata": {},
   "outputs": [
    {
     "name": "stdout",
     "output_type": "stream",
     "text": [
      "Epoch [1/5], Step [100/600], Loss: 0.6534\n",
      "Epoch [1/5], Step [200/600], Loss: 0.7125\n",
      "Epoch [1/5], Step [300/600], Loss: 0.5783\n",
      "Epoch [1/5], Step [400/600], Loss: 0.6759\n",
      "Epoch [1/5], Step [500/600], Loss: 0.6582\n",
      "Epoch [1/5], Step [600/600], Loss: 0.5978\n",
      "Epoch [2/5], Step [100/600], Loss: 0.5139\n",
      "Epoch [2/5], Step [200/600], Loss: 0.6774\n",
      "Epoch [2/5], Step [300/600], Loss: 0.5800\n",
      "Epoch [2/5], Step [400/600], Loss: 0.7082\n",
      "Epoch [2/5], Step [500/600], Loss: 0.7451\n",
      "Epoch [2/5], Step [600/600], Loss: 0.7192\n",
      "Epoch [3/5], Step [100/600], Loss: 0.7035\n",
      "Epoch [3/5], Step [200/600], Loss: 0.7325\n",
      "Epoch [3/5], Step [300/600], Loss: 0.6413\n",
      "Epoch [3/5], Step [400/600], Loss: 0.7095\n",
      "Epoch [3/5], Step [500/600], Loss: 0.6222\n",
      "Epoch [3/5], Step [600/600], Loss: 0.6617\n",
      "Epoch [4/5], Step [100/600], Loss: 0.7600\n",
      "Epoch [4/5], Step [200/600], Loss: 0.5922\n",
      "Epoch [4/5], Step [300/600], Loss: 0.5809\n",
      "Epoch [4/5], Step [400/600], Loss: 0.6017\n",
      "Epoch [4/5], Step [500/600], Loss: 0.6662\n",
      "Epoch [4/5], Step [600/600], Loss: 0.6989\n",
      "Epoch [5/5], Step [100/600], Loss: 0.7031\n",
      "Epoch [5/5], Step [200/600], Loss: 0.6938\n",
      "Epoch [5/5], Step [300/600], Loss: 0.6481\n",
      "Epoch [5/5], Step [400/600], Loss: 0.6187\n",
      "Epoch [5/5], Step [500/600], Loss: 0.6520\n",
      "Epoch [5/5], Step [600/600], Loss: 0.6434\n"
     ]
    }
   ],
   "source": [
    "# Train the model\n",
    "total_step = len(train_loader)\n",
    "\n",
    "for epoch in range(num_epochs):\n",
    "    for i, (images, labels) in enumerate(train_loader):\n",
    "        # Reshape images to (batch_size, input_size)\n",
    "        images = images.reshape(-1, input_size)\n",
    "\n",
    "        outputs = model(images)\n",
    "        loss = criterion(outputs, labels)\n",
    "\n",
    "        optimizer.zero_grad()\n",
    "        loss.backward()\n",
    "        optimizer.step()\n",
    "        if (i+1) % 100 == 0:\n",
    "            print ('Epoch [{}/{}], Step [{}/{}], Loss: {:.4f}'\n",
    "                   .format(epoch+1, num_epochs, i+1, total_step, loss.item()))\n"
   ]
  },
  {
   "cell_type": "code",
   "execution_count": 26,
   "metadata": {},
   "outputs": [
    {
     "name": "stdout",
     "output_type": "stream",
     "text": [
      "Accuracy of the model on the 10000 test images: 78.08000183105469 %\n"
     ]
    }
   ],
   "source": [
    "# Test the model\n",
    "# In test phase, we don't need to compute gradients (for memory efficiency)\n",
    "with torch.no_grad():\n",
    "    correct = 0\n",
    "    total = 0\n",
    "    for images, labels in test_loader:\n",
    "        images = images.reshape(-1, input_size)\n",
    "        outputs = model(images)\n",
    "        _, predicted = torch.max(outputs.data, 1)\n",
    "        total += labels.size(0)\n",
    "        correct += (predicted == labels).sum()\n",
    "\n",
    "    print('Accuracy of the model on the 10000 test images: {} %'.format(100 * correct / total))"
   ]
  },
  {
   "cell_type": "code",
   "execution_count": null,
   "metadata": {},
   "outputs": [],
   "source": []
  }
 ],
 "metadata": {
  "kernelspec": {
   "display_name": ".venv",
   "language": "python",
   "name": "python3"
  },
  "language_info": {
   "codemirror_mode": {
    "name": "ipython",
    "version": 3
   },
   "file_extension": ".py",
   "mimetype": "text/x-python",
   "name": "python",
   "nbconvert_exporter": "python",
   "pygments_lexer": "ipython3",
   "version": "3.10.12"
  }
 },
 "nbformat": 4,
 "nbformat_minor": 2
}
